{
 "cells": [
  {
   "cell_type": "code",
   "execution_count": 4,
   "metadata": {},
   "outputs": [],
   "source": [
    "import pickle\n",
    "import torch\n",
    "from torch import nn\n",
    "import numpy as np\n",
    "from torch.utils.data import Dataset\n",
    "from torch.utils.data import DataLoader\n",
    "# from Adaptive_GCN_GRU_Model import Main_Model as Model\n",
    "from Adaptive_GCN_GRU_Model import AGT_Model, GCN_Layer, GCN_Model, GRU_Cell, GRU_Model, GraphTopologyMaxPooling_Model, Main_Model\n",
    "from Model_Training_Module import train_test_datasets, train_loop, test_loop"
   ]
  },
  {
   "cell_type": "code",
   "execution_count": 5,
   "metadata": {},
   "outputs": [],
   "source": [
    "root_path =  'D:/Workspace/DepressionDetection_FreeThesis/Local_Development_Branch/'\n",
    "file_path_openneuro = 'openneuro_Data/'\n",
    "file_path = root_path+file_path_openneuro\n",
    "path = file_path+'TrainingData_Pickle/'+'training_data.p'"
   ]
  },
  {
   "cell_type": "code",
   "execution_count": 6,
   "metadata": {},
   "outputs": [
    {
     "data": {
      "text/plain": [
       "853"
      ]
     },
     "execution_count": 6,
     "metadata": {},
     "output_type": "execute_result"
    }
   ],
   "source": [
    "file = open( path, \"rb\" )\n",
    "dataSet = pickle.load(file)\n",
    "len(dataSet)"
   ]
  },
  {
   "cell_type": "code",
   "execution_count": 7,
   "metadata": {},
   "outputs": [],
   "source": [
    "batch_size = 40\n",
    "train_test_split = 0.7"
   ]
  },
  {
   "cell_type": "code",
   "execution_count": 8,
   "metadata": {},
   "outputs": [
    {
     "data": {
      "text/plain": [
       "(torch.Size([40, 6, 19, 200]),\n",
       " torch.Size([40, 19, 19]),\n",
       " torch.Size([40]),\n",
       " torch.Size([1, 6, 19, 200]),\n",
       " torch.Size([1, 19, 19]),\n",
       " torch.Size([1]))"
      ]
     },
     "execution_count": 8,
     "metadata": {},
     "output_type": "execute_result"
    }
   ],
   "source": [
    "train_dataloader, test_dataloader = train_test_datasets(dataSet, batch_size, train_test_split)\n",
    "\n",
    "train_features_signal, train_features_adjMatrix, train_labels = next(iter(train_dataloader))\n",
    "test_features_signal, test_features_adjMatrix, test_labels = next(iter(test_dataloader))\n",
    "\n",
    "train_features_signal.shape, train_features_adjMatrix.shape, train_labels.shape, test_features_signal.shape, test_features_adjMatrix.shape, test_labels.shape"
   ]
  },
  {
   "cell_type": "code",
   "execution_count": 9,
   "metadata": {},
   "outputs": [
    {
     "data": {
      "text/plain": [
       "((6, 19, 200), (19, 19), 0, 853)"
      ]
     },
     "execution_count": 9,
     "metadata": {},
     "output_type": "execute_result"
    }
   ],
   "source": [
    "signal, Adj_dist_matrix, label = dataSet[0]\n",
    "signal.shape, Adj_dist_matrix.shape, label, len(dataSet)"
   ]
  },
  {
   "cell_type": "code",
   "execution_count": 10,
   "metadata": {},
   "outputs": [],
   "source": [
    "def fn_test(model, signals, adjMatrices, batch_size):\n",
    "    lst = []\n",
    "    # tensor = model(signals, adjMatrices)\n",
    "\n",
    "    for i in range(batch_size):\n",
    "        # y = model(signals[i], adjMatrices[i])\n",
    "        y = signals[i]\n",
    "        lst.append(y)\n",
    "    tensor = lst\n",
    "\n",
    "    return tensor"
   ]
  },
  {
   "cell_type": "code",
   "execution_count": 11,
   "metadata": {},
   "outputs": [],
   "source": [
    "learning_rate = 2e-4\n",
    "batch_size = 40\n",
    "epochs = 5\n",
    "\n",
    "timeSteps, nodesDim, nodeFeaturesDim = signal.shape\n",
    "hidden_dim = 64           #  \n",
    "dropout_prob = 0.7        #      \n",
    "num_layers = 2\n",
    "\n",
    "model = Main_Model(nodesDim, nodeFeaturesDim, hidden_dim, num_layers, dropout_prob, timeSteps, batch_size)\n",
    "# outputs = model(train_features_signal, train_features_adjMatrix)\n",
    "# outputs"
   ]
  },
  {
   "cell_type": "code",
   "execution_count": null,
   "metadata": {},
   "outputs": [],
   "source": [
    "# model = Model(nodesDim, nodeFeaturesDim, hidden_dim, num_layers, dropout_prob, timeSteps, batch_size)\n",
    "# outputs = fn_test(model, train_features_signal, train_features_adjMatrix, batch_size)\n",
    "# outputs\n",
    "\n",
    "# model = GraphTopologyMaxPooling_Model(nodesDim, nodeFeaturesDim, hidden_dim, num_layers, dropout_prob, timeSteps)\n",
    "# outputs = fn_test(model, train_features_signal, train_features_adjMatrix, batch_size)\n",
    "# outputs\n",
    "\n",
    "model = GRU_Model(nodesDim, nodeFeaturesDim, hidden_dim, num_layers, dropout_prob, timeSteps)\n",
    "outputs = fn_test(model, train_features_signal, train_features_adjMatrix, batch_size)\n",
    "outputs"
   ]
  },
  {
   "cell_type": "markdown",
   "metadata": {},
   "source": [
    "----------------------------------------------------------------------------------------------------------------------------------------------------------------------------"
   ]
  },
  {
   "cell_type": "code",
   "execution_count": null,
   "metadata": {},
   "outputs": [],
   "source": []
  }
 ],
 "metadata": {
  "kernelspec": {
   "display_name": "Python 3",
   "language": "python",
   "name": "python3"
  },
  "language_info": {
   "codemirror_mode": {
    "name": "ipython",
    "version": 3
   },
   "file_extension": ".py",
   "mimetype": "text/x-python",
   "name": "python",
   "nbconvert_exporter": "python",
   "pygments_lexer": "ipython3",
   "version": "3.11.4"
  }
 },
 "nbformat": 4,
 "nbformat_minor": 2
}
